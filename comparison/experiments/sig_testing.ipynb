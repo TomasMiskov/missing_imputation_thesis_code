{
 "cells": [
  {
   "cell_type": "code",
   "execution_count": 1,
   "metadata": {},
   "outputs": [],
   "source": [
    "import os\n",
    "import numpy as np\n",
    "\n",
    "model1_data = np.load('../results/raw/results_dropout_real.npy')\n",
    "model2_data = np.load('../results/raw/results_neumiss_real.npy')\n",
    "model3_data = np.load('../results/raw/results_mlp_real.npy')\n",
    "model4_data = np.load('../results/raw/results_forest_real.npy')\n",
    "model5_data = np.load('../results/raw/results_lgbm_real.npy')\n",
    "\n",
    "metrics = ['Time [s]', 'MSE', 'MAE', 'R2', 'Accuracy', 'Precision', 'Recall', 'F1', 'ROC AUC']\n",
    "num_datasets, num_reps, num_metrics = model1_data.shape\n",
    "directory = '../processed_data/yes_miss'\n",
    "datasets = os.listdir(directory)"
   ]
  },
  {
   "cell_type": "code",
   "execution_count": 27,
   "metadata": {},
   "outputs": [
    {
     "data": {
      "text/plain": [
       "array([[0.88301887, 0.86666667, 0.87969925, 0.90076336, 0.91176471],\n",
       "       [0.8754717 , 0.85606061, 0.90839695, 0.90909091, 0.9298893 ],\n",
       "       [0.86567164, 0.86923077, 0.90566038, 0.86245353, 0.89705882],\n",
       "       [0.93726937, 0.92134831, 0.90977444, 0.90774908, 0.92028986],\n",
       "       [0.82098765, 0.82972136, 0.82389937, 0.84713376, 0.82352941]])"
      ]
     },
     "execution_count": 27,
     "metadata": {},
     "output_type": "execute_result"
    }
   ],
   "source": [
    "dataset_i = 3\n",
    "results = np.zeros((5, 5))\n",
    "results[0] = model1_data[dataset_i,:,-2]\n",
    "results[1] = model2_data[dataset_i,:,-2]\n",
    "results[2] = model3_data[dataset_i,:,-2]\n",
    "results[3] = model4_data[dataset_i,:,-2]\n",
    "results[4] = model5_data[dataset_i,:,-2]\n",
    "results"
   ]
  },
  {
   "cell_type": "code",
   "execution_count": 28,
   "metadata": {},
   "outputs": [
    {
     "data": {
      "text/plain": [
       "0.005318619121741908"
      ]
     },
     "execution_count": 28,
     "metadata": {},
     "output_type": "execute_result"
    }
   ],
   "source": [
    "from scipy.stats import friedmanchisquare\n",
    "\n",
    "# Apply the Friedman test\n",
    "stat, p_value = friedmanchisquare(*results)\n",
    "p_value"
   ]
  },
  {
   "cell_type": "code",
   "execution_count": 29,
   "metadata": {},
   "outputs": [
    {
     "name": "stdout",
     "output_type": "stream",
     "text": [
      "          0         1         2         3         4\n",
      "0  1.000000  1.000000  1.000000  0.132381  0.030813\n",
      "1  1.000000  1.000000  0.530492  1.000000  0.001688\n",
      "2  1.000000  0.530492  1.000000  0.030813  0.132381\n",
      "3  0.132381  1.000000  0.030813  1.000000  0.000112\n",
      "4  0.030813  0.001688  0.132381  0.000112  1.000000\n"
     ]
    }
   ],
   "source": [
    "import scikit_posthocs as sp\n",
    "p_values = sp.posthoc_conover_friedman(results.T, p_adjust='bonferroni')  # .T to transpose for correct orientation\n",
    "print(p_values)"
   ]
  }
 ],
 "metadata": {
  "kernelspec": {
   "display_name": "datascience",
   "language": "python",
   "name": "python3"
  },
  "language_info": {
   "codemirror_mode": {
    "name": "ipython",
    "version": 3
   },
   "file_extension": ".py",
   "mimetype": "text/x-python",
   "name": "python",
   "nbconvert_exporter": "python",
   "pygments_lexer": "ipython3",
   "version": "3.11.7"
  }
 },
 "nbformat": 4,
 "nbformat_minor": 2
}
